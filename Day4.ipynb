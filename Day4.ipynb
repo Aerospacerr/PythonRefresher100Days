{
  "nbformat": 4,
  "nbformat_minor": 0,
  "metadata": {
    "colab": {
      "provenance": [],
      "authorship_tag": "ABX9TyOUL7PUq19UhmxOQ6VwmK/p"
    },
    "kernelspec": {
      "name": "python3",
      "display_name": "Python 3"
    },
    "language_info": {
      "name": "python"
    }
  },
  "cells": [
    {
      "cell_type": "code",
      "execution_count": 3,
      "metadata": {
        "id": "4zC4t8ETWwsm"
      },
      "outputs": [],
      "source": [
        "#Randomisation and Lists"
      ]
    },
    {
      "cell_type": "code",
      "source": [
        "import random"
      ],
      "metadata": {
        "id": "Es6R0qDsXIhC"
      },
      "execution_count": 4,
      "outputs": []
    },
    {
      "cell_type": "code",
      "source": [
        "random_integer = random.randint(1,10)\n",
        "print(random_integer)"
      ],
      "metadata": {
        "colab": {
          "base_uri": "https://localhost:8080/"
        },
        "id": "sTeD7PQk5fuC",
        "outputId": "2c228f25-16d5-4970-ae3f-29475c24fa15"
      },
      "execution_count": 5,
      "outputs": [
        {
          "output_type": "stream",
          "name": "stdout",
          "text": [
            "7\n"
          ]
        }
      ]
    },
    {
      "cell_type": "code",
      "source": [
        "random_float = random.random()\n",
        "print(random_float)"
      ],
      "metadata": {
        "colab": {
          "base_uri": "https://localhost:8080/"
        },
        "id": "sL23rZRq5kxY",
        "outputId": "7b9b95f7-9af7-4643-d058-20340009d509"
      },
      "execution_count": 6,
      "outputs": [
        {
          "output_type": "stream",
          "name": "stdout",
          "text": [
            "0.3627591232593096\n"
          ]
        }
      ]
    },
    {
      "cell_type": "code",
      "source": [],
      "metadata": {
        "id": "SSIl6FsD5pKA"
      },
      "execution_count": 6,
      "outputs": []
    }
  ]
}