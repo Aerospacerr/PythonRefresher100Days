{
  "nbformat": 4,
  "nbformat_minor": 0,
  "metadata": {
    "colab": {
      "provenance": [],
      "authorship_tag": "ABX9TyOlG6cORok7OIZf/xh5egn+"
    },
    "kernelspec": {
      "name": "python3",
      "display_name": "Python 3"
    },
    "language_info": {
      "name": "python"
    }
  },
  "cells": [
    {
      "cell_type": "code",
      "execution_count": null,
      "metadata": {
        "colab": {
          "base_uri": "https://localhost:8080/"
        },
        "id": "WBmJwfh8Gk1w",
        "outputId": "147acb40-5811-4fff-9f18-df07d1e35e77"
      },
      "outputs": [
        {
          "output_type": "stream",
          "name": "stdout",
          "text": [
            "Welcome to the rollercoaster\n",
            "What is your height in cm155\n",
            "You can ride the rollercoaster\n",
            "What is your age?15\n",
            "Youth tickets are $7\n",
            "Do you want a photo taken? Y or N.Y\n",
            "Your final bill is 10\n"
          ]
        }
      ],
      "source": [
        "print(\"Welcome to the rollercoaster\")\n",
        "height = int(input(\"What is your height in cm\"))\n",
        "\n",
        "if height > 120:\n",
        "  print(\"You can ride the rollercoaster\")\n",
        "  age = int(input(\"What is your age?\"))\n",
        "  if age < 12:\n",
        "    bill = 5\n",
        "    print(\"Child tickets are $5\")\n",
        "  elif age <= 18:\n",
        "    bill = 7\n",
        "    print(\"Youth tickets are $7\")\n",
        "  else:\n",
        "    print(\"Adult tickets are $12\")\n",
        "    bill = 12\n",
        "  wants_photo = input(\"Do you want a photo taken? Y or N.\")\n",
        "  if wants_photo == \"Y\":\n",
        "    #Add $3 to their bill\n",
        "    bill = bill + 3\n",
        "\n",
        "  print(f\"Your final bill is {bill}\")\n",
        "else:\n",
        "  print(\"Sorry, you have to grow taller before you can ride.\")"
      ]
    },
    {
      "cell_type": "code",
      "source": [
        "#Which number do you want to check?\n",
        "number = int(input())\n",
        "\n",
        "#If the number can be divided by 2 with 0 remainder.\n",
        "if number % 2 == 0:\n",
        "  print(\"This is an even number\")\n",
        "#Otherwise (number cannot be divided by 2 with 0 remainder).\n",
        "else:\n",
        "  print(\"This is an odd number\")"
      ],
      "metadata": {
        "colab": {
          "base_uri": "https://localhost:8080/"
        },
        "id": "loAA1EUbL4_D",
        "outputId": "50f6ee06-ee4a-40c1-b788-dc1d06e5f333"
      },
      "execution_count": null,
      "outputs": [
        {
          "output_type": "stream",
          "name": "stdout",
          "text": [
            "5\n",
            "This is an odd number\n"
          ]
        }
      ]
    },
    {
      "cell_type": "code",
      "source": [
        "### 31 ###\n",
        "### Nested if statements and elif statemens\n",
        "\n"
      ],
      "metadata": {
        "id": "cO0xItaNfDXq"
      },
      "execution_count": null,
      "outputs": []
    },
    {
      "cell_type": "markdown",
      "source": [],
      "metadata": {
        "id": "5SerRaFGL0OZ"
      }
    }
  ]
}