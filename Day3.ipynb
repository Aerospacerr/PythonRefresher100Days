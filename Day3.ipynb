{
  "nbformat": 4,
  "nbformat_minor": 0,
  "metadata": {
    "colab": {
      "provenance": [],
      "authorship_tag": "ABX9TyPskLfRvPj7uHFyimrvGxmg"
    },
    "kernelspec": {
      "name": "python3",
      "display_name": "Python 3"
    },
    "language_info": {
      "name": "python"
    }
  },
  "cells": [
    {
      "cell_type": "code",
      "execution_count": 19,
      "metadata": {
        "colab": {
          "base_uri": "https://localhost:8080/"
        },
        "id": "WBmJwfh8Gk1w",
        "outputId": "8aa01e40-6340-4e8c-a54f-7a553f812dd2"
      },
      "outputs": [
        {
          "output_type": "stream",
          "name": "stdout",
          "text": [
            "Welcome to the rollercoaster\n",
            "What is your height in cm150\n",
            "You can ride the rollercoaster\n",
            "What is your age?15\n",
            "Please pay $7\n"
          ]
        }
      ],
      "source": [
        "print(\"Welcome to the rollercoaster\")\n",
        "height = int(input(\"What is your height in cm\"))\n",
        "\n",
        "if height > 120:\n",
        "  print(\"You can ride the rollercoaster\")\n",
        "  age = int(input(\"What is your age?\"))\n",
        "  if age < 12:\n",
        "    print(\"Please pay $5\")\n",
        "  elif age <= 18:\n",
        "    print(\"Please pay $7\")\n",
        "  else:\n",
        "    print(\"Please pay $12\")\n",
        "else:\n",
        "  print(\"Sorry, you have to grow taller before you can ride.\")"
      ]
    },
    {
      "cell_type": "code",
      "source": [
        "#Which number do you want to check?\n",
        "number = int(input())\n",
        "\n",
        "#If the number can be divided by 2 with 0 remainder.\n",
        "if number % 2 == 0:\n",
        "  print(\"This is an even number\")\n",
        "#Otherwise (number cannot be divided by 2 with 0 remainder).\n",
        "else:\n",
        "  print(\"This is an odd number\")"
      ],
      "metadata": {
        "colab": {
          "base_uri": "https://localhost:8080/"
        },
        "id": "loAA1EUbL4_D",
        "outputId": "50f6ee06-ee4a-40c1-b788-dc1d06e5f333"
      },
      "execution_count": 15,
      "outputs": [
        {
          "output_type": "stream",
          "name": "stdout",
          "text": [
            "5\n",
            "This is an odd number\n"
          ]
        }
      ]
    },
    {
      "cell_type": "code",
      "source": [
        "### 31 ###\n",
        "### Nested if statements and elif statemens\n",
        "\n"
      ],
      "metadata": {
        "id": "cO0xItaNfDXq"
      },
      "execution_count": null,
      "outputs": []
    },
    {
      "cell_type": "markdown",
      "source": [],
      "metadata": {
        "id": "5SerRaFGL0OZ"
      }
    }
  ]
}