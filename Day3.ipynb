{
  "nbformat": 4,
  "nbformat_minor": 0,
  "metadata": {
    "colab": {
      "provenance": [],
      "authorship_tag": "ABX9TyN0WbrGNozgvvZgeoaWSWfh"
    },
    "kernelspec": {
      "name": "python3",
      "display_name": "Python 3"
    },
    "language_info": {
      "name": "python"
    }
  },
  "cells": [
    {
      "cell_type": "code",
      "execution_count": 13,
      "metadata": {
        "colab": {
          "base_uri": "https://localhost:8080/"
        },
        "id": "WBmJwfh8Gk1w",
        "outputId": "7e8c506c-a114-4110-dfcf-0477f1d3c994"
      },
      "outputs": [
        {
          "output_type": "stream",
          "name": "stdout",
          "text": [
            "Welcome to the rollercoaster\n",
            "What is your height in cm125\n",
            "You can ride the rollercoaster\n"
          ]
        }
      ],
      "source": [
        "print(\"Welcome to the rollercoaster\")\n",
        "height = int(input(\"What is your height in cm\"))\n",
        "\n",
        "if height > 120:\n",
        "  print(\"You can ride the rollercoaster\")\n",
        "else:\n",
        "  print(\"Sorry, you have to grow taller before you can ride.\")"
      ]
    },
    {
      "cell_type": "code",
      "source": [
        "#Which number do you want to check?\n",
        "number = int(input())\n",
        "\n",
        "#If the number can be divided by 2 with 0 remainder.\n",
        "if number % 2 == 0:\n",
        "  print(\"This is an even number\")\n",
        "#Otherwise (number cannot be divided by 2 with 0 remainder).\n",
        "else:\n",
        "  print(\"This is an odd number\")"
      ],
      "metadata": {
        "colab": {
          "base_uri": "https://localhost:8080/"
        },
        "id": "loAA1EUbL4_D",
        "outputId": "50f6ee06-ee4a-40c1-b788-dc1d06e5f333"
      },
      "execution_count": 15,
      "outputs": [
        {
          "output_type": "stream",
          "name": "stdout",
          "text": [
            "5\n",
            "This is an odd number\n"
          ]
        }
      ]
    },
    {
      "cell_type": "markdown",
      "source": [],
      "metadata": {
        "id": "5SerRaFGL0OZ"
      }
    }
  ]
}