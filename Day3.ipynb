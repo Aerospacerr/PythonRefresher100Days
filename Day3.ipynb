{
  "nbformat": 4,
  "nbformat_minor": 0,
  "metadata": {
    "colab": {
      "provenance": [],
      "authorship_tag": "ABX9TyMjNiyYzsU7xvtabrXq59Jx"
    },
    "kernelspec": {
      "name": "python3",
      "display_name": "Python 3"
    },
    "language_info": {
      "name": "python"
    }
  },
  "cells": [
    {
      "cell_type": "code",
      "source": [
        "!git remote add origin https://github.com/Aerospacerr/100DaysChallenge.git"
      ],
      "metadata": {
        "colab": {
          "base_uri": "https://localhost:8080/"
        },
        "id": "jKzEcXQdYdFJ",
        "outputId": "978e2424-a552-40ba-8754-a420d9e63e17"
      },
      "execution_count": 11,
      "outputs": [
        {
          "output_type": "stream",
          "name": "stdout",
          "text": [
            "error: remote origin already exists.\n"
          ]
        }
      ]
    },
    {
      "cell_type": "code",
      "source": [
        "!echo \"# 100DaysChallenge\" >> README.md\n",
        "!git init\n",
        "!git add README.md\n",
        "!git commit -m \"first commit\"\n",
        "!git branch -M main\n"
      ],
      "metadata": {
        "colab": {
          "base_uri": "https://localhost:8080/"
        },
        "id": "IxdK5hO6XQMK",
        "outputId": "939310ce-6aca-42c2-f206-bfe862e9e9ee"
      },
      "execution_count": 8,
      "outputs": [
        {
          "output_type": "stream",
          "name": "stdout",
          "text": [
            "Reinitialized existing Git repository in /content/.git/\n",
            "Author identity unknown\n",
            "\n",
            "*** Please tell me who you are.\n",
            "\n",
            "Run\n",
            "\n",
            "  git config --global user.email \"you@example.com\"\n",
            "  git config --global user.name \"Your Name\"\n",
            "\n",
            "to set your account's default identity.\n",
            "Omit --global to set the identity only in this repository.\n",
            "\n",
            "fatal: unable to auto-detect email address (got 'root@a2f0dfcda0e9.(none)')\n"
          ]
        }
      ]
    },
    {
      "cell_type": "code",
      "source": [
        "!git remote add origin https://github.com/Aerospacerr/100DaysChallenge\n",
        "!git branch -M main\n",
        "!git push -u origin main"
      ],
      "metadata": {
        "colab": {
          "base_uri": "https://localhost:8080/"
        },
        "id": "FUsFz0HNYDZ7",
        "outputId": "1583d38b-677f-4a6e-976b-5bddece44d52"
      },
      "execution_count": 7,
      "outputs": [
        {
          "output_type": "stream",
          "name": "stdout",
          "text": [
            "error: remote origin already exists.\n",
            "error: src refspec main does not match any\n",
            "\u001b[31merror: failed to push some refs to 'https://github.com/Aerospacerr/100DaysChallenge.git'\n",
            "\u001b[m"
          ]
        }
      ]
    },
    {
      "cell_type": "markdown",
      "source": [
        "29"
      ],
      "metadata": {
        "id": "obj8rNKFL6_X"
      }
    },
    {
      "cell_type": "code",
      "execution_count": 1,
      "metadata": {
        "colab": {
          "base_uri": "https://localhost:8080/"
        },
        "id": "WBmJwfh8Gk1w",
        "outputId": "72db4015-029d-4f9b-9e1c-b98cc62ef1b6"
      },
      "outputs": [
        {
          "name": "stdout",
          "output_type": "stream",
          "text": [
            "Welcome to the rollercoaster\n",
            "What is your height in cm120\n"
          ]
        }
      ],
      "source": [
        "print(\"Welcome to the rollercoaster\")\n",
        "height = int(input(\"What is your height in cm\"))\n",
        "\n",
        "if height > 120:\n",
        "  print(\"You can ride the rollercoaster\")\n",
        "else"
      ]
    },
    {
      "cell_type": "code",
      "source": [],
      "metadata": {
        "id": "loAA1EUbL4_D"
      },
      "execution_count": null,
      "outputs": []
    },
    {
      "cell_type": "markdown",
      "source": [],
      "metadata": {
        "id": "5SerRaFGL0OZ"
      }
    }
  ]
}